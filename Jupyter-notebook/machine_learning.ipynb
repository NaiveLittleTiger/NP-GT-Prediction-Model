{
 "cells": [
  {
   "cell_type": "markdown",
   "id": "e20abfaf",
   "metadata": {},
   "source": [
    "# Machine Learning for predict GT1 substrates"
   ]
  },
  {
   "cell_type": "markdown",
   "id": "33bad7b1",
   "metadata": {},
   "source": [
    "# 1、load data"
   ]
  },
  {
   "cell_type": "code",
   "execution_count": 10,
   "id": "3106c010",
   "metadata": {},
   "outputs": [
    {
     "name": "stdout",
     "output_type": "stream",
     "text": [
      "/home/hcyao/Pycharm/GT1-ML\n"
     ]
    }
   ],
   "source": [
    "import pandas as pd\n",
    "import numpy as np\n",
    "%matplotlib inline\n",
    "import random\n",
    "from os.path import join\n",
    "import os\n",
    "import re\n",
    "import sys\n",
    "import time\n",
    "from rdkit import Chem\n",
    "from rdkit import DataStructs\n",
    "from rdkit.Chem import AllChem\n",
    "from Bio import SeqIO\n",
    "import warnings\n",
    "import torch\n",
    "warnings.filterwarnings(\"ignore\")\n",
    "\n",
    "CURRENT_DIR = os.getcwd()\n",
    "print(CURRENT_DIR)"
   ]
  },
  {
   "cell_type": "code",
   "execution_count": 11,
   "id": "fa1197c4",
   "metadata": {},
   "outputs": [],
   "source": [
    "# 导入yang的数据进行机器学习模型构建\n",
    "df=pd.read_pickle(\"./data/GT1/GT1_df_maccs.pkl\")"
   ]
  },
  {
   "cell_type": "code",
   "execution_count": 12,
   "id": "5706ad22",
   "metadata": {},
   "outputs": [
    {
     "data": {
      "text/plain": [
       "0.0    2335\n",
       "1.0     512\n",
       "Name: activity, dtype: int64"
      ]
     },
     "execution_count": 12,
     "metadata": {},
     "output_type": "execute_result"
    }
   ],
   "source": [
    "df.activity.value_counts()"
   ]
  },
  {
   "cell_type": "markdown",
   "id": "2aa1d974",
   "metadata": {},
   "source": [
    "### 1.1 external test  ECFP4 、MACCS and JTVAE"
   ]
  },
  {
   "cell_type": "markdown",
   "id": "a4b04869",
   "metadata": {},
   "source": [
    "### ECFP4"
   ]
  },
  {
   "cell_type": "code",
   "execution_count": 13,
   "id": "3942ad4c",
   "metadata": {},
   "outputs": [],
   "source": [
    "df_Berry=pd.read_pickle(\"./data/GT1/GT1_Berry_df.pkl\")\n",
    "df_Oat=pd.read_pickle(\"./data/GT1/GT1_Oat_df.pkl\")\n",
    "# X、y in dataset\n",
    "def create_input_and_output_data(df):\n",
    "    X = ();\n",
    "    y = ();\n",
    "    \n",
    "    for ind in df.index:\n",
    "        emb = df[\"ESM1b_ts\"][ind]\n",
    "        ecfp = np.array(list(df[\"ECFP_1024\"][ind])).astype(int)\n",
    "                \n",
    "        X = X +(np.concatenate([ecfp, emb]), );\n",
    "        y = y + (df[\"activity\"][ind], );\n",
    "\n",
    "    return(X,y)\n",
    "\n",
    "X_Berry, y_Berry =  create_input_and_output_data(df_Berry)\n",
    "X_Oat, y_Oat =  create_input_and_output_data(df_Oat)\n",
    "X_Berry=np.array(X_Berry)\n",
    "y_Berry=np.array(y_Berry)\n",
    "X_Oat=np.array(X_Oat)\n",
    "y_Oat=np.array(y_Oat)"
   ]
  },
  {
   "cell_type": "code",
   "execution_count": 16,
   "id": "20fe3b74",
   "metadata": {},
   "outputs": [
    {
     "data": {
      "text/plain": [
       "0    261\n",
       "1    119\n",
       "dtype: int64"
      ]
     },
     "execution_count": 16,
     "metadata": {},
     "output_type": "execute_result"
    }
   ],
   "source": [
    "pd.Series(y_Berry).value_counts()"
   ]
  },
  {
   "cell_type": "code",
   "execution_count": 17,
   "id": "2ef70af9",
   "metadata": {},
   "outputs": [
    {
     "data": {
      "text/plain": [
       "0    185\n",
       "1     81\n",
       "dtype: int64"
      ]
     },
     "execution_count": 17,
     "metadata": {},
     "output_type": "execute_result"
    }
   ],
   "source": [
    "pd.Series(y_Oat).value_counts()"
   ]
  },
  {
   "cell_type": "markdown",
   "id": "fbc4a1aa",
   "metadata": {},
   "source": [
    "###  save external test set as npy"
   ]
  },
  {
   "cell_type": "code",
   "execution_count": null,
   "id": "03080b79",
   "metadata": {},
   "outputs": [],
   "source": [
    "np.save(\"./data/splits/X_Berry.npy\",X_Berry)\n",
    "np.save(\"./data/splits/X_Oat.npy\",X_Oat)\n",
    "np.save(\"./data/splits/y_Berry.npy\",y_Berry)\n",
    "np.save(\"./data/splits/y_Oat.npy\",y_Oat)"
   ]
  },
  {
   "cell_type": "markdown",
   "id": "028c3692",
   "metadata": {},
   "source": [
    "### JTVAE"
   ]
  },
  {
   "cell_type": "code",
   "execution_count": 2,
   "id": "c506ce3e",
   "metadata": {},
   "outputs": [],
   "source": [
    "df_Berry=pd.read_pickle(\"./data/GT1/GT1_Berry_jtvae.pkl\")\n",
    "df_Oat=pd.read_pickle(\"./data/GT1/GT1_Oat_jtvae.pkl\")\n",
    "# X、y in dataset\n",
    "def create_input_and_output_data(df):\n",
    "    X = ();\n",
    "    y = ();\n",
    "    \n",
    "    for ind in df.index:\n",
    "        emb = df[\"ESM1b_ts\"][ind]\n",
    "        jtvae = df[\"jt-vae\"][ind]\n",
    "                \n",
    "        X = X +(np.concatenate([jtvae, emb]), );\n",
    "        y = y + (df[\"activity\"][ind], );\n",
    "\n",
    "    return(X,y)\n",
    "\n",
    "X_Berry, y_Berry =  create_input_and_output_data(df_Berry)\n",
    "X_Oat, y_Oat =  create_input_and_output_data(df_Oat)\n",
    "X_Berry=np.array(X_Berry)\n",
    "y_Berry=np.array(y_Berry)\n",
    "X_Oat=np.array(X_Oat)\n",
    "y_Oat=np.array(y_Oat)"
   ]
  },
  {
   "cell_type": "code",
   "execution_count": 9,
   "id": "aebd419c",
   "metadata": {},
   "outputs": [
    {
     "data": {
      "text/plain": [
       "1280"
      ]
     },
     "execution_count": 9,
     "metadata": {},
     "output_type": "execute_result"
    }
   ],
   "source": [
    "len(df_Berry['ESM1b_ts'][1])"
   ]
  },
  {
   "cell_type": "code",
   "execution_count": 6,
   "id": "b2d7c354",
   "metadata": {},
   "outputs": [
    {
     "data": {
      "text/plain": [
       "28"
      ]
     },
     "execution_count": 6,
     "metadata": {},
     "output_type": "execute_result"
    }
   ],
   "source": [
    "len(df_Berry['jt-vae'][1])"
   ]
  },
  {
   "cell_type": "code",
   "execution_count": null,
   "id": "15e1870f",
   "metadata": {},
   "outputs": [],
   "source": [
    "np.save(\"./data/splits/jtvae/X_Berry.npy\",X_Berry)\n",
    "np.save(\"./data/splits/jtvae/X_Oat.npy\",X_Oat)\n",
    "np.save(\"./data/splits/jtvae/y_Berry.npy\",y_Berry)\n",
    "np.save(\"./data/splits/jtvae/y_Oat.npy\",y_Oat)"
   ]
  },
  {
   "cell_type": "markdown",
   "id": "833dccdf",
   "metadata": {},
   "source": [
    "## MACCS"
   ]
  },
  {
   "cell_type": "code",
   "execution_count": 7,
   "id": "7a6e282c",
   "metadata": {},
   "outputs": [],
   "source": [
    "df_Berry=pd.read_pickle(\"./data/GT1/GT1_Berry_df.pkl\")\n",
    "df_Oat=pd.read_pickle(\"./data/GT1/GT1_Oat_df.pkl\")\n",
    "# X、y in dataset\n",
    "def create_input_and_output_data(df):\n",
    "    X = ();\n",
    "    y = ();\n",
    "    \n",
    "    for ind in df.index:\n",
    "        emb = df[\"ESM1b_ts\"][ind]\n",
    "        ecfp = np.array(list(df[\"MACCS\"][ind])).astype(int)\n",
    "                \n",
    "        X = X +(np.concatenate([ecfp, emb]), );\n",
    "        y = y + (df[\"activity\"][ind], );\n",
    "\n",
    "    return(X,y)\n",
    "\n",
    "X_Berry, y_Berry =  create_input_and_output_data(df_Berry)\n",
    "X_Oat, y_Oat =  create_input_and_output_data(df_Oat)\n",
    "X_Berry=np.array(X_Berry)\n",
    "y_Berry=np.array(y_Berry)\n",
    "X_Oat=np.array(X_Oat)\n",
    "y_Oat=np.array(y_Oat)"
   ]
  },
  {
   "cell_type": "code",
   "execution_count": null,
   "id": "38456e3c",
   "metadata": {},
   "outputs": [],
   "source": [
    "np.save(\"./data/splits/maccs/X_Berry.npy\",X_Berry)\n",
    "np.save(\"./data/splits/maccs/X_Oat.npy\",X_Oat)\n",
    "np.save(\"./data/splits/maccs/y_Berry.npy\",y_Berry)\n",
    "np.save(\"./data/splits/maccs/y_Oat.npy\",y_Oat)"
   ]
  },
  {
   "cell_type": "markdown",
   "id": "78818f37",
   "metadata": {},
   "source": [
    "# 2、ECFP4、oversampling method(for imbalanced data) "
   ]
  },
  {
   "cell_type": "code",
   "execution_count": 12,
   "id": "d5b5aee6",
   "metadata": {},
   "outputs": [],
   "source": [
    "from imblearn.over_sampling import RandomOverSampler, SMOTE, BorderlineSMOTE, SVMSMOTE, ADASYN\n",
    "from imblearn.combine import SMOTEENN,SMOTETomek\n",
    "from sklearn.metrics import recall_score,accuracy_score,confusion_matrix, f1_score,matthews_corrcoef,precision_score, auc,roc_auc_score,roc_curve, precision_recall_curve\n",
    "from sklearn.ensemble import RandomForestClassifier\n",
    "from sklearn.model_selection import train_test_split"
   ]
  },
  {
   "cell_type": "code",
   "execution_count": 13,
   "id": "82463426",
   "metadata": {},
   "outputs": [
    {
     "data": {
      "text/plain": [
       "2304"
      ]
     },
     "execution_count": 13,
     "metadata": {},
     "output_type": "execute_result"
    }
   ],
   "source": [
    "len(np.concatenate([np.array(list(df['ECFP_1024'][0])).astype(int),df[\"ESM1b_ts\"][0]],))"
   ]
  },
  {
   "cell_type": "code",
   "execution_count": 14,
   "id": "0eb56ce6",
   "metadata": {},
   "outputs": [
    {
     "data": {
      "text/plain": [
       "2847"
      ]
     },
     "execution_count": 14,
     "metadata": {},
     "output_type": "execute_result"
    }
   ],
   "source": [
    "len(df['activity'])"
   ]
  },
  {
   "cell_type": "code",
   "execution_count": 15,
   "id": "83130298",
   "metadata": {},
   "outputs": [],
   "source": [
    "# X=df[['ECFP_1024',\"ESM1b_ts\"]]\n",
    "# y=df['activity']"
   ]
  },
  {
   "cell_type": "code",
   "execution_count": 16,
   "id": "64e1a1cd",
   "metadata": {},
   "outputs": [],
   "source": [
    "# X、y in dataset\n",
    "def create_input_and_output_data_ecfp(df):\n",
    "    X = ();\n",
    "    y = ();\n",
    "    \n",
    "    for ind in df.index:\n",
    "        emb = df[\"ESM1b_ts\"][ind]\n",
    "        ecfp = np.array(list(df[\"ECFP_1024\"][ind])).astype(int)\n",
    "                \n",
    "        X = X +(np.concatenate([ecfp, emb]), );\n",
    "        y = y + (df[\"activity\"][ind], );\n",
    "\n",
    "    return(X,y)\n",
    "\n",
    "X, y =  create_input_and_output_data_ecfp(df )\n",
    "X=np.array(X)\n",
    "y=np.array(y)"
   ]
  },
  {
   "cell_type": "code",
   "execution_count": 17,
   "id": "789a60a4",
   "metadata": {},
   "outputs": [
    {
     "name": "stdout",
     "output_type": "stream",
     "text": [
      "Transforming RandomOverSampler\n",
      "Transforming SMOTE\n",
      "Transforming BorderlineSMOTE\n",
      "Transforming SVMSMOTE\n",
      "Transforming ADASYN\n",
      "Transforming SMOTEENN\n",
      "Transforming SMOTETomek\n",
      "Training on Original\n",
      "Training on RandomOverSampler\n",
      "Training on SMOTE\n",
      "Training on BorderlineSMOTE\n",
      "Training on SVMSMOTE\n",
      "Training on ADASYN\n",
      "Training on SMOTEENN\n",
      "Training on SMOTETomek\n"
     ]
    },
    {
     "data": {
      "text/html": [
       "<div>\n",
       "<style scoped>\n",
       "    .dataframe tbody tr th:only-of-type {\n",
       "        vertical-align: middle;\n",
       "    }\n",
       "\n",
       "    .dataframe tbody tr th {\n",
       "        vertical-align: top;\n",
       "    }\n",
       "\n",
       "    .dataframe thead th {\n",
       "        text-align: right;\n",
       "    }\n",
       "</style>\n",
       "<table border=\"1\" class=\"dataframe\">\n",
       "  <thead>\n",
       "    <tr style=\"text-align: right;\">\n",
       "      <th></th>\n",
       "      <th>Sampling Type</th>\n",
       "      <th>F1</th>\n",
       "      <th>precision</th>\n",
       "      <th>recall</th>\n",
       "      <th>accuracy</th>\n",
       "      <th>ROC_AUC</th>\n",
       "      <th>MCC</th>\n",
       "      <th>confusion_matrix</th>\n",
       "    </tr>\n",
       "  </thead>\n",
       "  <tbody>\n",
       "    <tr>\n",
       "      <th>0</th>\n",
       "      <td>Original</td>\n",
       "      <td>0.77</td>\n",
       "      <td>0.80</td>\n",
       "      <td>0.74</td>\n",
       "      <td>0.93</td>\n",
       "      <td>0.85</td>\n",
       "      <td>0.73</td>\n",
       "      <td>[[460, 17], [24, 69]]</td>\n",
       "    </tr>\n",
       "    <tr>\n",
       "      <th>1</th>\n",
       "      <td>RandomOverSampler</td>\n",
       "      <td>0.80</td>\n",
       "      <td>0.75</td>\n",
       "      <td>0.85</td>\n",
       "      <td>0.93</td>\n",
       "      <td>0.90</td>\n",
       "      <td>0.76</td>\n",
       "      <td>[[451, 26], [14, 79]]</td>\n",
       "    </tr>\n",
       "    <tr>\n",
       "      <th>2</th>\n",
       "      <td>SMOTE</td>\n",
       "      <td>0.77</td>\n",
       "      <td>0.77</td>\n",
       "      <td>0.77</td>\n",
       "      <td>0.93</td>\n",
       "      <td>0.87</td>\n",
       "      <td>0.73</td>\n",
       "      <td>[[456, 21], [21, 72]]</td>\n",
       "    </tr>\n",
       "    <tr>\n",
       "      <th>3</th>\n",
       "      <td>BorderlineSMOTE</td>\n",
       "      <td>0.77</td>\n",
       "      <td>0.77</td>\n",
       "      <td>0.76</td>\n",
       "      <td>0.92</td>\n",
       "      <td>0.86</td>\n",
       "      <td>0.72</td>\n",
       "      <td>[[456, 21], [22, 71]]</td>\n",
       "    </tr>\n",
       "    <tr>\n",
       "      <th>4</th>\n",
       "      <td>SVMSMOTE</td>\n",
       "      <td>0.78</td>\n",
       "      <td>0.77</td>\n",
       "      <td>0.78</td>\n",
       "      <td>0.93</td>\n",
       "      <td>0.87</td>\n",
       "      <td>0.73</td>\n",
       "      <td>[[455, 22], [20, 73]]</td>\n",
       "    </tr>\n",
       "    <tr>\n",
       "      <th>5</th>\n",
       "      <td>ADASYN</td>\n",
       "      <td>0.75</td>\n",
       "      <td>0.75</td>\n",
       "      <td>0.75</td>\n",
       "      <td>0.92</td>\n",
       "      <td>0.85</td>\n",
       "      <td>0.70</td>\n",
       "      <td>[[454, 23], [23, 70]]</td>\n",
       "    </tr>\n",
       "    <tr>\n",
       "      <th>6</th>\n",
       "      <td>SMOTEENN</td>\n",
       "      <td>0.72</td>\n",
       "      <td>0.60</td>\n",
       "      <td>0.89</td>\n",
       "      <td>0.88</td>\n",
       "      <td>0.89</td>\n",
       "      <td>0.67</td>\n",
       "      <td>[[421, 56], [10, 83]]</td>\n",
       "    </tr>\n",
       "    <tr>\n",
       "      <th>7</th>\n",
       "      <td>SMOTETomek</td>\n",
       "      <td>0.80</td>\n",
       "      <td>0.79</td>\n",
       "      <td>0.81</td>\n",
       "      <td>0.93</td>\n",
       "      <td>0.88</td>\n",
       "      <td>0.76</td>\n",
       "      <td>[[457, 20], [18, 75]]</td>\n",
       "    </tr>\n",
       "  </tbody>\n",
       "</table>\n",
       "</div>"
      ],
      "text/plain": [
       "       Sampling Type    F1  precision  recall  accuracy  ROC_AUC   MCC  \\\n",
       "0           Original  0.77       0.80    0.74      0.93     0.85  0.73   \n",
       "1  RandomOverSampler  0.80       0.75    0.85      0.93     0.90  0.76   \n",
       "2              SMOTE  0.77       0.77    0.77      0.93     0.87  0.73   \n",
       "3    BorderlineSMOTE  0.77       0.77    0.76      0.92     0.86  0.72   \n",
       "4           SVMSMOTE  0.78       0.77    0.78      0.93     0.87  0.73   \n",
       "5             ADASYN  0.75       0.75    0.75      0.92     0.85  0.70   \n",
       "6           SMOTEENN  0.72       0.60    0.89      0.88     0.89  0.67   \n",
       "7         SMOTETomek  0.80       0.79    0.81      0.93     0.88  0.76   \n",
       "\n",
       "        confusion_matrix  \n",
       "0  [[460, 17], [24, 69]]  \n",
       "1  [[451, 26], [14, 79]]  \n",
       "2  [[456, 21], [21, 72]]  \n",
       "3  [[456, 21], [22, 71]]  \n",
       "4  [[455, 22], [20, 73]]  \n",
       "5  [[454, 23], [23, 70]]  \n",
       "6  [[421, 56], [10, 83]]  \n",
       "7  [[457, 20], [18, 75]]  "
      ]
     },
     "execution_count": 17,
     "metadata": {},
     "output_type": "execute_result"
    }
   ],
   "source": [
    "X_train, X_test, y_train, y_test = train_test_split(X,y,test_size = 0.20, random_state = 888)\n",
    "#helper function to apply resampling\n",
    "def transform(transformer,X,y):\n",
    "    print(\"Transforming {}\".format(transformer.__class__.__name__))\n",
    "    if type(X) is np.ndarray and type(y) is np.ndarray:\n",
    "        X_resampled,y_resampled = transformer.fit_resample(X,y)\n",
    "    elif type(X) is pd.DataFrame and type(y) is pd.Series:\n",
    "        X_resampled,y_resampled = transformer.fit_resample(X.values,y.values.ravel())\n",
    "    else:\n",
    "        print('X,y are neither ndarray nor dataframe or not the same type')\n",
    "        raise\n",
    "    return transformer.__class__.__name__,pd.DataFrame(X_resampled), pd.DataFrame(y_resampled)\n",
    "\n",
    "#transform dataset\n",
    "datasets = []\n",
    "datasets.append((\"Original\",X_train,y_train))\n",
    "methods = ['RandomOverSampler','SMOTE','BorderlineSMOTE','SVMSMOTE','ADASYN','SMOTEENN','SMOTETomek']\n",
    "for m in methods:\n",
    "    apply_method = 'datasets.append(transform({}(random_state = 42),X_train,y_train))'.format(m)\n",
    "    eval(apply_method)\n",
    "    \n",
    "#calculate the performance of each sampling method\n",
    "resample_scores = []\n",
    "for sampling_type,X,y in datasets:\n",
    "    print(\"Training on {}\".format(sampling_type))\n",
    "    rf = RandomForestClassifier(n_jobs = -1, random_state = 42,n_estimators = 160)\n",
    "    rf.fit(X,y)\n",
    "    pred_test = rf.predict(X_test)\n",
    "    pred_test_probs = rf.predict_proba(X_test)\n",
    "#    probs = rf.decision_function(X_test.values) #be used with linear regression.\n",
    "    fpr, tpr, thresholds = roc_curve(y_test,pred_test)\n",
    "#    p,r,t = precision_recall_curve(y_test.values.ravel(),probs)\n",
    "    resample_scores.append((sampling_type,\n",
    "                   f1_score(y_test,pred_test),\n",
    "                   precision_score(y_test,pred_test),\n",
    "                   recall_score(y_test,pred_test),\n",
    "                   accuracy_score(y_test,pred_test),\n",
    "                   auc(fpr, tpr),\n",
    "                   matthews_corrcoef(y_test,pred_test),\n",
    "#                   auc(p,r,reorder=True),\n",
    "                   confusion_matrix(y_test,pred_test)))\n",
    "\n",
    "#print results\n",
    "sampling_results = pd.DataFrame(resample_scores, columns=['Sampling Type','F1','precision','recall',\n",
    "                                                 'accuracy','ROC_AUC','MCC','confusion_matrix'])\n",
    "#sampling_results.rename(columns=str.upper,inplace = True)\n",
    "sampling_results.round(2)"
   ]
  },
  {
   "cell_type": "code",
   "execution_count": 18,
   "id": "a207f1c1",
   "metadata": {
    "scrolled": true
   },
   "outputs": [
    {
     "data": {
      "image/png": "[encoded data removed]",
      "text/plain": [
       "<Figure size 864x864 with 1 Axes>"
      ]
     },
     "metadata": {
      "needs_background": "light"
     },
     "output_type": "display_data"
    },
    {
     "data": {
      "image/png": "[encoded data removed]",
      "text/plain": [
       "<Figure size 864x864 with 1 Axes>"
      ]
     },
     "metadata": {
      "needs_background": "light"
     },
     "output_type": "display_data"
    }
   ],
   "source": [
    "#print out resampling result by methods\n",
    "# RandomOverSampler perform best in all of methods\n",
    "resamp_methods_plot = sampling_results.plot(x = 'Sampling Type', ylim = (0,1.0), \n",
    "                                            kind = 'bar', rot = 90, stacked = False, \n",
    "                                            figsize = (12,12), fontsize = 20\n",
    "                                           ).legend(loc=\"lower left\", prop={'size': 18})\n",
    "fig = resamp_methods_plot.get_figure()\n",
    "fig.savefig(join(CURRENT_DIR,\"picture\", \"resamp_methods_plot.png\"))\n",
    "\n",
    "\n",
    "#print out resampling result by metrics\n",
    "resamp_metrics = sampling_results.transpose().iloc[:-1]\n",
    "resamp_metrics.rename(columns = resamp_metrics.iloc[0],inplace=True)\n",
    "resamp_metrics = resamp_metrics.iloc[1:].astype('float').round(2)\n",
    "resamp_metrics_plot = resamp_metrics.plot(ylim = (0,1.0), kind = 'bar', \n",
    "                                          rot = 0 , stacked = False, \n",
    "                                          figsize = (12,12), fontsize = 20\n",
    "                                         ).legend(loc=\"lower left\", prop={'size': 18})\n",
    "fig = resamp_metrics_plot.get_figure()\n",
    "fig.savefig(join(CURRENT_DIR,\"picture\",\"resamp_metrics_plot.png\"))"
   ]
  },
  {
   "cell_type": "markdown",
   "id": "e2319ecb",
   "metadata": {},
   "source": [
    "## RandomOversample perform best \n",
    "save X_train、X_test、y_train、y_test 1858，1858"
   ]
  },
  {
   "cell_type": "code",
   "execution_count": 19,
   "id": "f37574f0",
   "metadata": {},
   "outputs": [],
   "source": [
    "X_train,y_train=datasets[1][1:]"
   ]
  },
  {
   "cell_type": "code",
   "execution_count": 21,
   "id": "df7cb2c4",
   "metadata": {},
   "outputs": [
    {
     "name": "stdout",
     "output_type": "stream",
     "text": [
      "3716 3716\n"
     ]
    }
   ],
   "source": [
    "print(len(X_train),len(y_train))"
   ]
  },
  {
   "cell_type": "code",
   "execution_count": null,
   "id": "a7239192",
   "metadata": {},
   "outputs": [],
   "source": [
    "np.save(\"./data/splits/X_train.npy\",X_train)\n",
    "np.save(\"./data/splits/X_test.npy\",X_test)\n",
    "np.save(\"./data/splits/y_train.npy\",y_train)\n",
    "np.save(\"./data/splits/y_test.npy\",y_test)"
   ]
  },
  {
   "cell_type": "code",
   "execution_count": null,
   "id": "55a82947",
   "metadata": {},
   "outputs": [],
   "source": [
    "X_train=np.load(\"./data/splits/X_train.npy\")\n",
    "y_train=np.load(\"./data/splits/y_train.npy\")\n",
    "X_test=np.load(\"./data/splits/X_test.npy\")\n",
    "y_test=np.load(\"./data/splits/y_test.npy\")"
   ]
  },
  {
   "cell_type": "markdown",
   "id": "ca713395",
   "metadata": {},
   "source": [
    "# 3、JT-VAE、oversampling method(for imblance data)"
   ]
  },
  {
   "cell_type": "code",
   "execution_count": 22,
   "id": "a4dcb4f8",
   "metadata": {},
   "outputs": [
    {
     "data": {
      "text/plain": [
       "array([ 0.03144204, -0.37626934,  0.28288794, -0.3105216 ,  0.78598267,\n",
       "       -0.28699303,  0.0759152 ,  0.17826855,  0.55597323, -0.10072717,\n",
       "       -0.15150996, -0.02404155, -0.22354399,  0.25478274, -0.2974797 ,\n",
       "        0.30811027,  0.10715783, -0.19580728,  0.21949965, -0.15125816,\n",
       "       -0.31738758,  0.5275098 ,  0.01231663, -0.02161884, -0.1161361 ,\n",
       "       -0.06273628, -0.08668878, -0.06334324], dtype=float32)"
      ]
     },
     "execution_count": 22,
     "metadata": {},
     "output_type": "execute_result"
    }
   ],
   "source": [
    "df['jt-vae'][1]"
   ]
  },
  {
   "cell_type": "code",
   "execution_count": 23,
   "id": "d9b8e5d9",
   "metadata": {},
   "outputs": [
    {
     "data": {
      "text/plain": [
       "array([ 0.01325675, -0.16644819, -0.34313837, ...,  0.38575134,\n",
       "        0.03477904,  0.7142458 ], dtype=float32)"
      ]
     },
     "execution_count": 23,
     "metadata": {},
     "output_type": "execute_result"
    }
   ],
   "source": [
    "df['ESM1b_ts'][1]"
   ]
  },
  {
   "cell_type": "code",
   "execution_count": 24,
   "id": "e696d4fa",
   "metadata": {},
   "outputs": [],
   "source": [
    "# X、y in dataset\n",
    "def create_input_and_output_data_jtvae(df):\n",
    "    X = ();\n",
    "    y = (); \n",
    "    for ind in df.index:\n",
    "        emb = df[\"ESM1b_ts\"][ind]\n",
    "        jtvae = df['jt-vae'][ind]               \n",
    "        X = X +(np.concatenate([jtvae, emb]), )\n",
    "        y = y + (df[\"activity\"][ind], );\n",
    "    return(X,y)\n",
    "\n",
    "X, y =  create_input_and_output_data_jtvae(df )\n",
    "X=np.array(X)\n",
    "y=np.array(y)"
   ]
  },
  {
   "cell_type": "code",
   "execution_count": 25,
   "id": "89b21103",
   "metadata": {},
   "outputs": [
    {
     "name": "stdout",
     "output_type": "stream",
     "text": [
      "Transforming RandomOverSampler\n",
      "Transforming SMOTE\n",
      "Transforming BorderlineSMOTE\n",
      "Transforming SVMSMOTE\n",
      "Transforming ADASYN\n",
      "Transforming SMOTEENN\n",
      "Transforming SMOTETomek\n",
      "Training on Original\n",
      "Training on RandomOverSampler\n",
      "Training on SMOTE\n",
      "Training on BorderlineSMOTE\n",
      "Training on SVMSMOTE\n",
      "Training on ADASYN\n",
      "Training on SMOTEENN\n",
      "Training on SMOTETomek\n"
     ]
    },
    {
     "data": {
      "text/html": [
       "<div>\n",
       "<style scoped>\n",
       "    .dataframe tbody tr th:only-of-type {\n",
       "        vertical-align: middle;\n",
       "    }\n",
       "\n",
       "    .dataframe tbody tr th {\n",
       "        vertical-align: top;\n",
       "    }\n",
       "\n",
       "    .dataframe thead th {\n",
       "        text-align: right;\n",
       "    }\n",
       "</style>\n",
       "<table border=\"1\" class=\"dataframe\">\n",
       "  <thead>\n",
       "    <tr style=\"text-align: right;\">\n",
       "      <th></th>\n",
       "      <th>Sampling Type</th>\n",
       "      <th>F1</th>\n",
       "      <th>precision</th>\n",
       "      <th>recall</th>\n",
       "      <th>accuracy</th>\n",
       "      <th>ROC_AUC</th>\n",
       "      <th>MCC</th>\n",
       "      <th>confusion_matrix</th>\n",
       "    </tr>\n",
       "  </thead>\n",
       "  <tbody>\n",
       "    <tr>\n",
       "      <th>0</th>\n",
       "      <td>Original</td>\n",
       "      <td>0.68</td>\n",
       "      <td>0.81</td>\n",
       "      <td>0.59</td>\n",
       "      <td>0.91</td>\n",
       "      <td>0.78</td>\n",
       "      <td>0.64</td>\n",
       "      <td>[[464, 13], [38, 55]]</td>\n",
       "    </tr>\n",
       "    <tr>\n",
       "      <th>1</th>\n",
       "      <td>RandomOverSampler</td>\n",
       "      <td>0.73</td>\n",
       "      <td>0.76</td>\n",
       "      <td>0.70</td>\n",
       "      <td>0.91</td>\n",
       "      <td>0.83</td>\n",
       "      <td>0.68</td>\n",
       "      <td>[[456, 21], [28, 65]]</td>\n",
       "    </tr>\n",
       "    <tr>\n",
       "      <th>2</th>\n",
       "      <td>SMOTE</td>\n",
       "      <td>0.74</td>\n",
       "      <td>0.75</td>\n",
       "      <td>0.73</td>\n",
       "      <td>0.92</td>\n",
       "      <td>0.84</td>\n",
       "      <td>0.69</td>\n",
       "      <td>[[454, 23], [25, 68]]</td>\n",
       "    </tr>\n",
       "    <tr>\n",
       "      <th>3</th>\n",
       "      <td>BorderlineSMOTE</td>\n",
       "      <td>0.73</td>\n",
       "      <td>0.76</td>\n",
       "      <td>0.70</td>\n",
       "      <td>0.92</td>\n",
       "      <td>0.83</td>\n",
       "      <td>0.68</td>\n",
       "      <td>[[457, 20], [28, 65]]</td>\n",
       "    </tr>\n",
       "    <tr>\n",
       "      <th>4</th>\n",
       "      <td>SVMSMOTE</td>\n",
       "      <td>0.73</td>\n",
       "      <td>0.74</td>\n",
       "      <td>0.72</td>\n",
       "      <td>0.91</td>\n",
       "      <td>0.84</td>\n",
       "      <td>0.68</td>\n",
       "      <td>[[453, 24], [26, 67]]</td>\n",
       "    </tr>\n",
       "    <tr>\n",
       "      <th>5</th>\n",
       "      <td>ADASYN</td>\n",
       "      <td>0.73</td>\n",
       "      <td>0.71</td>\n",
       "      <td>0.75</td>\n",
       "      <td>0.91</td>\n",
       "      <td>0.85</td>\n",
       "      <td>0.68</td>\n",
       "      <td>[[449, 28], [23, 70]]</td>\n",
       "    </tr>\n",
       "    <tr>\n",
       "      <th>6</th>\n",
       "      <td>SMOTEENN</td>\n",
       "      <td>0.56</td>\n",
       "      <td>0.42</td>\n",
       "      <td>0.84</td>\n",
       "      <td>0.79</td>\n",
       "      <td>0.81</td>\n",
       "      <td>0.48</td>\n",
       "      <td>[[370, 107], [15, 78]]</td>\n",
       "    </tr>\n",
       "    <tr>\n",
       "      <th>7</th>\n",
       "      <td>SMOTETomek</td>\n",
       "      <td>0.75</td>\n",
       "      <td>0.77</td>\n",
       "      <td>0.74</td>\n",
       "      <td>0.92</td>\n",
       "      <td>0.85</td>\n",
       "      <td>0.71</td>\n",
       "      <td>[[456, 21], [24, 69]]</td>\n",
       "    </tr>\n",
       "  </tbody>\n",
       "</table>\n",
       "</div>"
      ],
      "text/plain": [
       "       Sampling Type    F1  precision  recall  accuracy  ROC_AUC   MCC  \\\n",
       "0           Original  0.68       0.81    0.59      0.91     0.78  0.64   \n",
       "1  RandomOverSampler  0.73       0.76    0.70      0.91     0.83  0.68   \n",
       "2              SMOTE  0.74       0.75    0.73      0.92     0.84  0.69   \n",
       "3    BorderlineSMOTE  0.73       0.76    0.70      0.92     0.83  0.68   \n",
       "4           SVMSMOTE  0.73       0.74    0.72      0.91     0.84  0.68   \n",
       "5             ADASYN  0.73       0.71    0.75      0.91     0.85  0.68   \n",
       "6           SMOTEENN  0.56       0.42    0.84      0.79     0.81  0.48   \n",
       "7         SMOTETomek  0.75       0.77    0.74      0.92     0.85  0.71   \n",
       "\n",
       "         confusion_matrix  \n",
       "0   [[464, 13], [38, 55]]  \n",
       "1   [[456, 21], [28, 65]]  \n",
       "2   [[454, 23], [25, 68]]  \n",
       "3   [[457, 20], [28, 65]]  \n",
       "4   [[453, 24], [26, 67]]  \n",
       "5   [[449, 28], [23, 70]]  \n",
       "6  [[370, 107], [15, 78]]  \n",
       "7   [[456, 21], [24, 69]]  "
      ]
     },
     "execution_count": 25,
     "metadata": {},
     "output_type": "execute_result"
    }
   ],
   "source": [
    "X_train, X_test, y_train, y_test = train_test_split(X,y,test_size = 0.20, random_state = 888)\n",
    "#helper function to apply resampling\n",
    "def transform(transformer,X,y):\n",
    "    print(\"Transforming {}\".format(transformer.__class__.__name__))\n",
    "    if type(X) is np.ndarray and type(y) is np.ndarray:\n",
    "        X_resampled,y_resampled = transformer.fit_resample(X,y)\n",
    "    elif type(X) is pd.DataFrame and type(y) is pd.Series:\n",
    "        X_resampled,y_resampled = transformer.fit_resample(X.values,y.values.ravel())\n",
    "    else:\n",
    "        print('X,y are neither ndarray nor dataframe or not the same type')\n",
    "        raise\n",
    "    return transformer.__class__.__name__,pd.DataFrame(X_resampled), pd.DataFrame(y_resampled)\n",
    "\n",
    "#transform dataset\n",
    "datasets = []\n",
    "datasets.append((\"Original\",X_train,y_train))\n",
    "methods = ['RandomOverSampler','SMOTE','BorderlineSMOTE','SVMSMOTE','ADASYN','SMOTEENN','SMOTETomek']\n",
    "for m in methods:\n",
    "    apply_method = 'datasets.append(transform({}(random_state = 42),X_train,y_train))'.format(m)\n",
    "    eval(apply_method)\n",
    "    \n",
    "#calculate the performance of each sampling method\n",
    "resample_scores = []\n",
    "for sampling_type,X,y in datasets:\n",
    "    print(\"Training on {}\".format(sampling_type))\n",
    "    rf = RandomForestClassifier(n_jobs = -1, random_state = 42,n_estimators = 160)\n",
    "    rf.fit(X,y)\n",
    "    pred_test = rf.predict(X_test)\n",
    "    pred_test_probs = rf.predict_proba(X_test)\n",
    "#    probs = rf.decision_function(X_test.values) #be used with linear regression.\n",
    "    fpr, tpr, thresholds = roc_curve(y_test,pred_test)\n",
    "#    p,r,t = precision_recall_curve(y_test.values.ravel(),probs)\n",
    "    resample_scores.append((sampling_type,\n",
    "                   f1_score(y_test,pred_test),\n",
    "                   precision_score(y_test,pred_test),\n",
    "                   recall_score(y_test,pred_test),\n",
    "                   accuracy_score(y_test,pred_test),\n",
    "                   auc(fpr, tpr),\n",
    "                   matthews_corrcoef(y_test,pred_test),\n",
    "#                   auc(p,r,reorder=True),\n",
    "                   confusion_matrix(y_test,pred_test)))\n",
    "\n",
    "#print results\n",
    "sampling_results = pd.DataFrame(resample_scores, columns=['Sampling Type','F1','precision','recall',\n",
    "                                                 'accuracy','ROC_AUC','MCC','confusion_matrix'])\n",
    "#sampling_results.rename(columns=str.upper,inplace = True)\n",
    "sampling_results.round(2)"
   ]
  },
  {
   "cell_type": "code",
   "execution_count": 26,
   "id": "1f327880",
   "metadata": {},
   "outputs": [
    {
     "data": {
      "image/png": "[encoded data removed]",
      "text/plain": [
       "<Figure size 864x864 with 1 Axes>"
      ]
     },
     "metadata": {
      "needs_background": "light"
     },
     "output_type": "display_data"
    },
    {
     "data": {
      "image/png": "[encoded data removed]",
      "text/plain": [
       "<Figure size 864x864 with 1 Axes>"
      ]
     },
     "metadata": {
      "needs_background": "light"
     },
     "output_type": "display_data"
    }
   ],
   "source": [
    "#print out resampling result by methods\n",
    "# RandomOverSampler perform best in all of methods\n",
    "resamp_methods_plot = sampling_results.plot(x = 'Sampling Type', ylim = (0,1.0), \n",
    "                                            kind = 'bar', rot = 90, stacked = False, \n",
    "                                            figsize = (12,12), fontsize = 20\n",
    "                                           ).legend(loc=\"lower left\", prop={'size': 18})\n",
    "fig = resamp_methods_plot.get_figure()\n",
    "fig.savefig(join(CURRENT_DIR,\"picture\", \"resamp_methods_plot_jtvae.png\"))\n",
    "\n",
    "\n",
    "#print out resampling result by metrics\n",
    "resamp_metrics = sampling_results.transpose().iloc[:-1]\n",
    "resamp_metrics.rename(columns = resamp_metrics.iloc[0],inplace=True)\n",
    "resamp_metrics = resamp_metrics.iloc[1:].astype('float').round(2)\n",
    "resamp_metrics_plot = resamp_metrics.plot(ylim = (0,1.0), kind = 'bar', \n",
    "                                          rot = 0 , stacked = False, \n",
    "                                          figsize = (12,12), fontsize = 20\n",
    "                                         ).legend(loc=\"lower left\", prop={'size': 18})\n",
    "fig = resamp_metrics_plot.get_figure()\n",
    "fig.savefig(join(CURRENT_DIR,\"picture\",\"resamp_metrics_plot_jtvae.png\"))"
   ]
  },
  {
   "cell_type": "markdown",
   "id": "87ad23a5",
   "metadata": {},
   "source": [
    "## SMOTETomek perform best on jtvae-dataset\n",
    "save SMOTETomek train data 、test data\n",
    "1847 positive,1847 negative,3692 train sample,570 test data"
   ]
  },
  {
   "cell_type": "code",
   "execution_count": 27,
   "id": "41eb1b41",
   "metadata": {},
   "outputs": [],
   "source": [
    "X_train,y_train=datasets[7][1:]"
   ]
  },
  {
   "cell_type": "code",
   "execution_count": null,
   "id": "987fa611",
   "metadata": {},
   "outputs": [],
   "source": [
    "np.save(\"./data/splits/jtvae/X_train.npy\",X_train)\n",
    "np.save(\"./data/splits/jtvae/X_test.npy\",X_test)\n",
    "np.save(\"./data/splits/jtvae/y_train.npy\",y_train)\n",
    "np.save(\"./data/splits/jtvae/y_test.npy\",y_test)"
   ]
  },
  {
   "cell_type": "code",
   "execution_count": null,
   "id": "e9164433",
   "metadata": {},
   "outputs": [],
   "source": [
    "len(X_train)"
   ]
  },
  {
   "cell_type": "markdown",
   "id": "9457305d",
   "metadata": {},
   "source": [
    "## 4、MACCS Oversample"
   ]
  },
  {
   "cell_type": "code",
   "execution_count": 29,
   "id": "7a4e5956",
   "metadata": {},
   "outputs": [
    {
     "name": "stdout",
     "output_type": "stream",
     "text": [
      "167 2847\n"
     ]
    }
   ],
   "source": [
    "print(len(df['MACCS'][1]),len(df['ESM1b_ts']))"
   ]
  },
  {
   "cell_type": "code",
   "execution_count": 30,
   "id": "76f5ffb5",
   "metadata": {},
   "outputs": [],
   "source": [
    "# X、y in dataset\n",
    "def create_input_and_output_data_maccs(df):\n",
    "    X = ();\n",
    "    y = ();\n",
    "    \n",
    "    for ind in df.index:\n",
    "        emb = df[\"ESM1b_ts\"][ind]\n",
    "        maccs = np.array(list(df[\"MACCS\"][ind])).astype(int)\n",
    "                \n",
    "        X = X +(np.concatenate([maccs, emb]), );\n",
    "        y = y + (df[\"activity\"][ind], );\n",
    "\n",
    "    return(X,y)\n",
    "\n",
    "X, y =  create_input_and_output_data_maccs(df )\n",
    "X=np.array(X)\n",
    "y=np.array(y)"
   ]
  },
  {
   "cell_type": "code",
   "execution_count": 31,
   "id": "5a6f3556",
   "metadata": {},
   "outputs": [
    {
     "name": "stdout",
     "output_type": "stream",
     "text": [
      "Transforming RandomOverSampler\n",
      "Transforming SMOTE\n",
      "Transforming BorderlineSMOTE\n",
      "Transforming SVMSMOTE\n",
      "Transforming ADASYN\n",
      "Transforming SMOTEENN\n",
      "Transforming SMOTETomek\n",
      "Training on Original\n",
      "Training on RandomOverSampler\n",
      "Training on SMOTE\n",
      "Training on BorderlineSMOTE\n",
      "Training on SVMSMOTE\n",
      "Training on ADASYN\n",
      "Training on SMOTEENN\n",
      "Training on SMOTETomek\n"
     ]
    },
    {
     "data": {
      "text/html": [
       "<div>\n",
       "<style scoped>\n",
       "    .dataframe tbody tr th:only-of-type {\n",
       "        vertical-align: middle;\n",
       "    }\n",
       "\n",
       "    .dataframe tbody tr th {\n",
       "        vertical-align: top;\n",
       "    }\n",
       "\n",
       "    .dataframe thead th {\n",
       "        text-align: right;\n",
       "    }\n",
       "</style>\n",
       "<table border=\"1\" class=\"dataframe\">\n",
       "  <thead>\n",
       "    <tr style=\"text-align: right;\">\n",
       "      <th></th>\n",
       "      <th>Sampling Type</th>\n",
       "      <th>F1</th>\n",
       "      <th>precision</th>\n",
       "      <th>recall</th>\n",
       "      <th>accuracy</th>\n",
       "      <th>ROC_AUC</th>\n",
       "      <th>MCC</th>\n",
       "      <th>confusion_matrix</th>\n",
       "    </tr>\n",
       "  </thead>\n",
       "  <tbody>\n",
       "    <tr>\n",
       "      <th>0</th>\n",
       "      <td>Original</td>\n",
       "      <td>0.71</td>\n",
       "      <td>0.69</td>\n",
       "      <td>0.72</td>\n",
       "      <td>0.90</td>\n",
       "      <td>0.83</td>\n",
       "      <td>0.65</td>\n",
       "      <td>[[447, 30], [26, 67]]</td>\n",
       "    </tr>\n",
       "    <tr>\n",
       "      <th>1</th>\n",
       "      <td>RandomOverSampler</td>\n",
       "      <td>0.70</td>\n",
       "      <td>0.63</td>\n",
       "      <td>0.80</td>\n",
       "      <td>0.89</td>\n",
       "      <td>0.85</td>\n",
       "      <td>0.64</td>\n",
       "      <td>[[433, 44], [19, 74]]</td>\n",
       "    </tr>\n",
       "    <tr>\n",
       "      <th>2</th>\n",
       "      <td>SMOTE</td>\n",
       "      <td>0.74</td>\n",
       "      <td>0.71</td>\n",
       "      <td>0.76</td>\n",
       "      <td>0.91</td>\n",
       "      <td>0.85</td>\n",
       "      <td>0.68</td>\n",
       "      <td>[[448, 29], [22, 71]]</td>\n",
       "    </tr>\n",
       "    <tr>\n",
       "      <th>3</th>\n",
       "      <td>BorderlineSMOTE</td>\n",
       "      <td>0.74</td>\n",
       "      <td>0.72</td>\n",
       "      <td>0.76</td>\n",
       "      <td>0.91</td>\n",
       "      <td>0.85</td>\n",
       "      <td>0.69</td>\n",
       "      <td>[[450, 27], [22, 71]]</td>\n",
       "    </tr>\n",
       "    <tr>\n",
       "      <th>4</th>\n",
       "      <td>SVMSMOTE</td>\n",
       "      <td>0.75</td>\n",
       "      <td>0.73</td>\n",
       "      <td>0.77</td>\n",
       "      <td>0.92</td>\n",
       "      <td>0.86</td>\n",
       "      <td>0.70</td>\n",
       "      <td>[[451, 26], [21, 72]]</td>\n",
       "    </tr>\n",
       "    <tr>\n",
       "      <th>5</th>\n",
       "      <td>ADASYN</td>\n",
       "      <td>0.74</td>\n",
       "      <td>0.71</td>\n",
       "      <td>0.77</td>\n",
       "      <td>0.91</td>\n",
       "      <td>0.86</td>\n",
       "      <td>0.69</td>\n",
       "      <td>[[447, 30], [21, 72]]</td>\n",
       "    </tr>\n",
       "    <tr>\n",
       "      <th>6</th>\n",
       "      <td>SMOTEENN</td>\n",
       "      <td>0.66</td>\n",
       "      <td>0.52</td>\n",
       "      <td>0.89</td>\n",
       "      <td>0.85</td>\n",
       "      <td>0.87</td>\n",
       "      <td>0.60</td>\n",
       "      <td>[[400, 77], [10, 83]]</td>\n",
       "    </tr>\n",
       "    <tr>\n",
       "      <th>7</th>\n",
       "      <td>SMOTETomek</td>\n",
       "      <td>0.74</td>\n",
       "      <td>0.72</td>\n",
       "      <td>0.75</td>\n",
       "      <td>0.91</td>\n",
       "      <td>0.85</td>\n",
       "      <td>0.68</td>\n",
       "      <td>[[450, 27], [23, 70]]</td>\n",
       "    </tr>\n",
       "  </tbody>\n",
       "</table>\n",
       "</div>"
      ],
      "text/plain": [
       "       Sampling Type    F1  precision  recall  accuracy  ROC_AUC   MCC  \\\n",
       "0           Original  0.71       0.69    0.72      0.90     0.83  0.65   \n",
       "1  RandomOverSampler  0.70       0.63    0.80      0.89     0.85  0.64   \n",
       "2              SMOTE  0.74       0.71    0.76      0.91     0.85  0.68   \n",
       "3    BorderlineSMOTE  0.74       0.72    0.76      0.91     0.85  0.69   \n",
       "4           SVMSMOTE  0.75       0.73    0.77      0.92     0.86  0.70   \n",
       "5             ADASYN  0.74       0.71    0.77      0.91     0.86  0.69   \n",
       "6           SMOTEENN  0.66       0.52    0.89      0.85     0.87  0.60   \n",
       "7         SMOTETomek  0.74       0.72    0.75      0.91     0.85  0.68   \n",
       "\n",
       "        confusion_matrix  \n",
       "0  [[447, 30], [26, 67]]  \n",
       "1  [[433, 44], [19, 74]]  \n",
       "2  [[448, 29], [22, 71]]  \n",
       "3  [[450, 27], [22, 71]]  \n",
       "4  [[451, 26], [21, 72]]  \n",
       "5  [[447, 30], [21, 72]]  \n",
       "6  [[400, 77], [10, 83]]  \n",
       "7  [[450, 27], [23, 70]]  "
      ]
     },
     "execution_count": 31,
     "metadata": {},
     "output_type": "execute_result"
    }
   ],
   "source": [
    "X_train, X_test, y_train, y_test = train_test_split(X,y,test_size = 0.20, random_state = 888)\n",
    "#helper function to apply resampling\n",
    "def transform(transformer,X,y):\n",
    "    print(\"Transforming {}\".format(transformer.__class__.__name__))\n",
    "    if type(X) is np.ndarray and type(y) is np.ndarray:\n",
    "        X_resampled,y_resampled = transformer.fit_resample(X,y)\n",
    "    elif type(X) is pd.DataFrame and type(y) is pd.Series:\n",
    "        X_resampled,y_resampled = transformer.fit_resample(X.values,y.values.ravel())\n",
    "    else:\n",
    "        print('X,y are neither ndarray nor dataframe or not the same type')\n",
    "        raise\n",
    "    return transformer.__class__.__name__,pd.DataFrame(X_resampled), pd.DataFrame(y_resampled)\n",
    "\n",
    "#transform dataset\n",
    "datasets = []\n",
    "datasets.append((\"Original\",X_train,y_train))\n",
    "methods = ['RandomOverSampler','SMOTE','BorderlineSMOTE','SVMSMOTE','ADASYN','SMOTEENN','SMOTETomek']\n",
    "for m in methods:\n",
    "    apply_method = 'datasets.append(transform({}(random_state = 42),X_train,y_train))'.format(m)\n",
    "    eval(apply_method)\n",
    "    \n",
    "#calculate the performance of each sampling method\n",
    "resample_scores = []\n",
    "for sampling_type,X,y in datasets:\n",
    "    print(\"Training on {}\".format(sampling_type))\n",
    "    rf = RandomForestClassifier(n_jobs = -1, random_state = 42,n_estimators = 160)\n",
    "    rf.fit(X,y)\n",
    "    pred_test = rf.predict(X_test)\n",
    "    pred_test_probs = rf.predict_proba(X_test)\n",
    "#    probs = rf.decision_function(X_test.values) #be used with linear regression.\n",
    "    fpr, tpr, thresholds = roc_curve(y_test,pred_test)\n",
    "#    p,r,t = precision_recall_curve(y_test.values.ravel(),probs)\n",
    "    resample_scores.append((sampling_type,\n",
    "                   f1_score(y_test,pred_test),\n",
    "                   precision_score(y_test,pred_test),\n",
    "                   recall_score(y_test,pred_test),\n",
    "                   accuracy_score(y_test,pred_test),\n",
    "                   auc(fpr, tpr),\n",
    "                   matthews_corrcoef(y_test,pred_test),\n",
    "#                   auc(p,r,reorder=True),\n",
    "                   confusion_matrix(y_test,pred_test)))\n",
    "\n",
    "#print results\n",
    "sampling_results = pd.DataFrame(resample_scores, columns=['Sampling Type','F1','precision','recall',\n",
    "                                                 'accuracy','ROC_AUC','MCC','confusion_matrix'])\n",
    "#sampling_results.rename(columns=str.upper,inplace = True)\n",
    "sampling_results.round(2)"
   ]
  },
  {
   "cell_type": "code",
   "execution_count": 32,
   "id": "ba5b315b",
   "metadata": {},
   "outputs": [
    {
     "data": {
      "image/png": "[encoded data removed]",
      "text/plain": [
       "<Figure size 864x864 with 1 Axes>"
      ]
     },
     "metadata": {
      "needs_background": "light"
     },
     "output_type": "display_data"
    },
    {
     "data": {
      "image/png": "[encoded data removed]",
      "text/plain": [
       "<Figure size 864x864 with 1 Axes>"
      ]
     },
     "metadata": {
      "needs_background": "light"
     },
     "output_type": "display_data"
    }
   ],
   "source": [
    "#print out resampling result by methods\n",
    "# RandomOverSampler perform best in all of methods\n",
    "resamp_methods_plot = sampling_results.plot(x = 'Sampling Type', ylim = (0,1.0), \n",
    "                                            kind = 'bar', rot = 90, stacked = False, \n",
    "                                            figsize = (12,12), fontsize = 20\n",
    "                                           ).legend(loc=\"lower left\", prop={'size': 18})\n",
    "fig = resamp_methods_plot.get_figure()\n",
    "fig.savefig(join(CURRENT_DIR,\"picture\", \"resamp_methods_plot_maccs.png\"))\n",
    "\n",
    "\n",
    "#print out resampling result by metrics\n",
    "resamp_metrics = sampling_results.transpose().iloc[:-1]\n",
    "resamp_metrics.rename(columns = resamp_metrics.iloc[0],inplace=True)\n",
    "resamp_metrics = resamp_metrics.iloc[1:].astype('float').round(2)\n",
    "resamp_metrics_plot = resamp_metrics.plot(ylim = (0,1.0), kind = 'bar', \n",
    "                                          rot = 0 , stacked = False, \n",
    "                                          figsize = (12,12), fontsize = 20\n",
    "                                         ).legend(loc=\"lower left\", prop={'size': 18})\n",
    "fig = resamp_metrics_plot.get_figure()\n",
    "fig.savefig(join(CURRENT_DIR,\"picture\",\"resamp_metrics_plot_maccs.png\"))"
   ]
  },
  {
   "cell_type": "markdown",
   "id": "9f3ee4bc",
   "metadata": {},
   "source": [
    "## SVMSMOTE perform best\n",
    "1858条正样本和1858条负样本"
   ]
  },
  {
   "cell_type": "code",
   "execution_count": null,
   "id": "bc3375ed",
   "metadata": {},
   "outputs": [],
   "source": [
    "X_train,y_train=datasets[4][1:]"
   ]
  },
  {
   "cell_type": "code",
   "execution_count": null,
   "id": "ab917623",
   "metadata": {},
   "outputs": [],
   "source": [
    "X_train"
   ]
  },
  {
   "cell_type": "code",
   "execution_count": null,
   "id": "d499d239",
   "metadata": {},
   "outputs": [],
   "source": [
    "np.save(\"./data/splits/maccs/X_train.npy\",X_train)\n",
    "np.save(\"./data/splits/maccs/X_test.npy\",X_test)\n",
    "np.save(\"./data/splits/maccs/y_train.npy\",y_train)\n",
    "np.save(\"./data/splits/maccs/y_test.npy\",y_test)"
   ]
  },
  {
   "cell_type": "markdown",
   "id": "4cdb6042",
   "metadata": {},
   "source": [
    "# Hyperparameter tuning using Grid Search"
   ]
  },
  {
   "cell_type": "code",
   "execution_count": null,
   "id": "b96c9b7b",
   "metadata": {},
   "outputs": [],
   "source": [
    "from sklearn.gaussian_process import GaussianProcessClassifier\n",
    "from sklearn.ensemble import (RandomForestClassifier,GradientBoostingClassifier)\n",
    "from sklearn.linear_model import LogisticRegression\n",
    "from sklearn.svm import SVC\n",
    "from sklearn.gaussian_process import GaussianProcessClassifier\n",
    "from sklearn.gaussian_process.kernels import ConstantKernel, RBF, RationalQuadratic, ExpSineSquared\n",
    "\n",
    "#consider reducing dimensions when hyperparameter tuning if computationally too expensive\n",
    "\n",
    "#GBDT\n",
    "GBDT_param_grid = {\"n_estimators\" : range(50,300,50),\n",
    "                   \"max_depth\" : [None, 5, 10, 20, 40, 160, 320],\n",
    "                   \"min_samples_leaf\" : [1, 2, 4, 8, 16, 32, 64],\n",
    "                   \"learning_rate\": np.arange(0.01,0.1,0.01),\n",
    "                   \"subsample\": np.arange(0.5,0.9,0.05),\n",
    "                   \"max_features\":['auto', 5,10,20,30]\n",
    "                  }\n",
    "\n",
    "GBDT_tuned_params = {\"max_features\":'auto',\n",
    "                  \"max_depth\": None,\n",
    "                  \"min_samples_leaf\" : 1,\n",
    "                  \"max_depth\" : 5,\n",
    "                  'learning_rate': 0.08, \n",
    "                  'n_estimators': 320,\n",
    "                  \"subsample\": 0.85\n",
    "                  }\n",
    "\n",
    "GBDT = GradientBoostingClassifier(random_state=42).set_params(**GBDT_tuned_params)\n",
    "\n",
    "#RF\n",
    "RF_param_grid = {\"n_estimators\" : [160, 320, 640, 1280],\n",
    "                 \"max_depth\" : [None, 5, 10, 20, 40, 160, 320],\n",
    "                 \"min_samples_leaf\" : [1, 2, 4, 8, 16, 32, 64],\n",
    "                 \"max_features\":['auto', 5,10,20,30]\n",
    "                } \n",
    "\n",
    "RF_tuned_params = {'max_depth': None,\n",
    "                   'max_features': 'auto',\n",
    "                   'min_samples_leaf': 1,\n",
    "                   'n_estimators': 160,\n",
    "                   'n_jobs': -1,\n",
    "                   'random_state': 42\n",
    "                  }\n",
    "\n",
    "RF = RandomForestClassifier(random_state=42,n_jobs=-1).set_params(**RF_tuned_params)\n",
    "\n",
    "#LR\n",
    "LR_param_grid = {'penalty': ['l1', 'l2'], #note l1 only compatible with liblinear\n",
    "                 'C':[0.001,0.01,1,5,10],\n",
    "                'solver':['newton-cg', 'lbfgs', 'liblinear', 'sag', 'saga']}\n",
    "\n",
    "LR_tuned_params = {'C': 1, \n",
    "                   'penalty': 'l2', \n",
    "                   'solver': 'lbfgs'\n",
    "                  }\n",
    "\n",
    "LR = LogisticRegression(random_state = 42).set_params(**LR_tuned_params)\n",
    "\n",
    "\n",
    "#SVM\n",
    "SVM_param_grid = {'C': [0.1, 1, 10, 100, 1000],  \n",
    "                 'gamma': [1, 0.1, 0.01, 0.001, 0.0001, 'auto', 'scale'], \n",
    "                 'kernel': ['linear', 'poly', 'rbf', 'sigmoid'],\n",
    "                 'probability':[True]\n",
    "                 }  \n",
    "\n",
    "SVM_tuned_params = {'C': 1000,\n",
    "                    'gamma': 0.0001, \n",
    "                    'kernel': 'rbf',\n",
    "                     'probability': True\n",
    "                    }\n",
    "SVM = SVC(random_state=42).set_params(**SVM_tuned_params)\n",
    "\n",
    "models=['GBDT','RF','LR','SVM']\n",
    "param_grids=['GBDT_param_grid','RF_param_grid','LR_param_grid','SVM_param_grid']"
   ]
  },
  {
   "cell_type": "code",
   "execution_count": null,
   "id": "94877d51",
   "metadata": {},
   "outputs": [],
   "source": [
    "models=[]\n",
    "models.append()"
   ]
  },
  {
   "cell_type": "code",
   "execution_count": null,
   "id": "12f3a180",
   "metadata": {},
   "outputs": [],
   "source": [
    "from sklearn.metrics import (recall_score,accuracy_score,confusion_matrix, f1_score, precision_score, \n",
    "                             auc,roc_auc_score,roc_curve, matthews_corrcoef,precision_recall_curve,classification_report)\n",
    "from sklearn.model_selection import GridSearchCV,train_test_split\n",
    "\n",
    "#select training data from best sample method ,here is training data\n",
    "X_train,y_train=datasets[1][1:]\n",
    "\n",
    "\n",
    "model = eval(RF)\n",
    "param_grid = RF_param_grid\n",
    "\n",
    "#to test other metrics, uncomment below or add your own metrics\n",
    "scores = [\n",
    "    'accuracy'\n",
    "#     'precision',\n",
    "#     'roc_auc'\n",
    "         ]\n",
    "\n",
    "for score in scores:\n",
    "    print(\"# Tuning the hyper-parameters for {}\".format(score))\n",
    "    gs = GridSearchCV(model, param_grid = param_grid, cv = 5, scoring='%s' % score,n_jobs=4)\n",
    "    gs.fit(X_train, y_train)\n",
    "\n",
    "    print(\"Best parameters set found:\\n\",gs.best_params_)\n",
    "    print(\"Best score:\\n\", gs.best_score_) \n",
    "\n",
    "#detailed scores for grid_search\n",
    "#pd.DataFrame(gs.cv_results_)"
   ]
  },
  {
   "cell_type": "code",
   "execution_count": null,
   "id": "f11ba97a",
   "metadata": {},
   "outputs": [],
   "source": [
    "from sklearn.metrics import (recall_score,accuracy_score,confusion_matrix, f1_score, precision_score, \n",
    "                             auc,roc_auc_score,roc_curve, matthews_corrcoef,precision_recall_curve,classification_report)\n",
    "from sklearn.model_selection import GridSearchCV,train_test_split\n",
    "\n",
    "#select training data from best sample method ,here is training data\n",
    "X_train,y_train=datasets[1][1:]\n",
    "\n",
    "\n",
    "for model,param_grid in zip(models,param_grids):\n",
    "    #to test other metrics, uncomment below or add your own metrics\n",
    "    scores = [\n",
    "        'accuracy'\n",
    "#         'precision',\n",
    "#         'roc_auc'\n",
    "             ]\n",
    "    for score in scores:\n",
    "        print(\"# Tuning the hyper-parameters for {}\".format(score))\n",
    "        gs = GridSearchCV(eval(model), param_grid = eval(param_grid), cv = 5, scoring='%s' % score,n_jobs=4)\n",
    "        gs.fit(X_train, y_train)\n",
    "\n",
    "        print(\"Best parameters set found:\\n\",gs.best_params_)\n",
    "        print(\"Best score:\\n\", gs.best_score_) \n",
    "\n",
    "    #detailed scores for grid_search\n",
    "    #pd.DataFrame(gs.cv_results_)"
   ]
  },
  {
   "cell_type": "markdown",
   "id": "10e1d82b",
   "metadata": {},
   "source": [
    "# K-fold cross validation"
   ]
  },
  {
   "cell_type": "markdown",
   "id": "4dbf695f",
   "metadata": {},
   "source": []
  },
  {
   "cell_type": "code",
   "execution_count": null,
   "id": "1c4dbffa",
   "metadata": {},
   "outputs": [],
   "source": [
    "from sklearn.model_selection import KFold\n",
    "from sklearn.metrics import (recall_score,accuracy_score,confusion_matrix, f1_score, precision_score, \n",
    "                             auc,roc_auc_score,roc_curve, precision_recall_curve,classification_report)\n",
    "\n",
    "from sklearn.ensemble import RandomForestClassifier\n",
    "from sklearn.linear_model import LogisticRegression\n",
    "from sklearn.svm import SVC\n",
    "\n",
    "\n",
    "#K-fold validation function will take six arguments: \n",
    "#1. model, 2. train set, 3.test set, 4.# of fold, 5.shuffle boolean, 6.random_state.\n",
    "def kf_cv(clf, X, y, folds = 10, shuf = True, random_state=42):\n",
    "    cv = KFold(n_splits=folds, random_state=42, shuffle=shuf)\n",
    "    f1,prec,recall,acc,ROC_AUC,conf = ([],[],[],[],[],[])\n",
    "    metric_cols=['F1','precision','recall','accuracy','ROC_AUC','confusion_matrix']\n",
    "    print('Classifier ##{0}## will be used with {1} folds, and shuffle mode is {2}'.format(clf.__class__.__name__,\n",
    "                                                                                       folds,\n",
    "                                                                                       'on' if shuf else 'off')\n",
    "         )\n",
    "    \n",
    "    for train_index, test_index in cv.split(X):\n",
    "        #turn on the below code will print train_index/test_index and may help understand the details and debug.\n",
    "        #print(\"Train Index: \", train_index, \"\\n\")\n",
    "        #print(\"Test Index: \", test_index)\n",
    "        \n",
    "        X_train, X_test, y_train, y_test = X[train_index], X[test_index], y[train_index], y[test_index]\n",
    "        #if sampling method is used, use this to avoid warnings: clf.fit(X_train.values, y_train.values.ravel())\n",
    "        clf.fit(X_train, y_train.ravel())\n",
    "        \n",
    "        pred_test = clf.predict(X_test)\n",
    "        pred_test_probs = clf.predict_proba(X_test)\n",
    "        fpr, tpr, thresholds = roc_curve(y_test,pred_test)\n",
    "        \n",
    "        f1.append(f1_score(y_test,pred_test))\n",
    "        prec.append(precision_score(y_test,pred_test))\n",
    "        recall.append(recall_score(y_test,pred_test))\n",
    "        acc.append(accuracy_score(y_test,pred_test))\n",
    "        ROC_AUC.append(roc_auc_score(y_test, pred_test_probs[:,1]))       \n",
    "        conf.append(confusion_matrix(y_test,pred_test))\n",
    "        \n",
    "    #return a dataframe consisting five metrics and confusion matrix.\n",
    "    return pd.DataFrame(zip(f1,prec,recall,acc,ROC_AUC,conf), columns = metric_cols)"
   ]
  },
  {
   "cell_type": "markdown",
   "id": "7da98265",
   "metadata": {},
   "source": [
    "Still using RandomOverSample method data for training "
   ]
  },
  {
   "cell_type": "code",
   "execution_count": null,
   "id": "6405e633",
   "metadata": {},
   "outputs": [],
   "source": [
    "#setting up models using tuned hyperparameters from Grid Search.\n",
    "GBDT = GradientBoostingClassifier(random_state=42).set_params(**GBDT_tuned_params)\n",
    "RF = RandomForestClassifier(random_state=42).set_params(**RF_tuned_params)\n",
    "LR = LogisticRegression(random_state=42).set_params(**LR_tuned_params)\n",
    "SVM = SVC(random_state=42).set_params(**SVM_tuned_params)\n",
    "\n",
    "#create dictionary to store k-fold CV results\n",
    "cv_score_dict = {}\n",
    "#create a dataframe to store the mean and standard error of the mean (SEM) from k-fold CV\n",
    "cv_score_mean = pd.DataFrame()\n",
    "cv_score_sem = pd.DataFrame()\n",
    "\n",
    "#run k-fold CV\n",
    "for model_name in ['RF','GBDT','LR','SVM']:\n",
    "    clf = eval(model_name)\n",
    "    cv_score_dict[model_name] = kf_cv(clf,X_train,y_train,10,True)\n",
    "    cv_score_mean[model_name] = cv_score_dict[model_name].mean()[:-1]\n",
    "    cv_score_sem[model_name] = cv_score_dict[model_name].sem()\n",
    "    \n",
    "cv_score_mean = cv_score_mean.transpose().astype(float).round(2)\n",
    "cv_score_sem = cv_score_sem.transpose().round(2)\n",
    "\n",
    "print('\\n\\ndetail results in dictionary \"cv_score_dict\" using model_name as key')\n",
    "print('Performace summary in df \"cv_score_mean\" and \"cv_score_sem\"')\n",
    "\n",
    "# check mean performance of each model.\n",
    "cv_score_mean"
   ]
  },
  {
   "cell_type": "markdown",
   "id": "19ba56c8",
   "metadata": {},
   "source": [
    "# Plot k-fold CV"
   ]
  },
  {
   "cell_type": "code",
   "execution_count": null,
   "id": "aa7af1c0",
   "metadata": {},
   "outputs": [],
   "source": [
    "#plot k-fold CV by methods\n",
    "CV_plot_methods = cv_score_mean.plot(ylim = (0,1), kind = 'bar', \n",
    "                                    rot = 0 , stacked = False,\n",
    "                                    yerr = cv_score_sem, capsize=4,\n",
    "                                    figsize = (10,10), fontsize = 24)\n",
    "plt.legend(loc=3, prop={'size': 15})\n",
    "plt.title('CV_plot_methods',fontsize = 20)\n",
    "plt.savefig(img_dir + \"CV_plot_methods.png\")\n",
    "\n",
    "\n",
    "#plot k-fold CV by metrics\n",
    "CV_plot_metrics = cv_score_mean.transpose().plot(kind = 'bar', ylim = (0,1),\n",
    "                                                rot = 0, stacked = False,\n",
    "                                                yerr = cv_score_sem.transpose(), capsize=4,\n",
    "                                                figsize = (10,10), fontsize = 22)\n",
    "plt.legend(loc=2, prop={'size': 20})\n",
    "plt.title('CV_plot_metrics',fontsize = 20)\n",
    "plt.savefig(img_dir + \"CV_plot_metrics.png\")"
   ]
  },
  {
   "cell_type": "markdown",
   "id": "22f7af4c",
   "metadata": {},
   "source": [
    "## run test  set after 5-fold cross-validation\n"
   ]
  },
  {
   "cell_type": "code",
   "execution_count": null,
   "id": "89ead824",
   "metadata": {},
   "outputs": [],
   "source": [
    "#create a dataframe to store test set performance\n",
    "test_set_result = pd.DataFrame()\n",
    "f1,prec,recall,acc,ROC_AUC,conf = ([],[],[],[],[],[])\n",
    "\n",
    "#evaluate the performance of the different classifiers\n",
    "for model_name in ['RF','GBDT','LR','SVM']:\n",
    "    clf = eval(model_name)\n",
    "\n",
    "    clf.fit(X_train, y_train.ravel())\n",
    "\n",
    "    pred_test = clf.predict(X_test)\n",
    "    pred_test_probs = clf.predict_proba(X_test)\n",
    "    fpr, tpr, thresholds = roc_curve(y_test,pred_test)\n",
    "\n",
    "    f1.append(f1_score(y_test,pred_test))\n",
    "    prec.append(precision_score(y_test,pred_test))\n",
    "    recall.append(recall_score(y_test,pred_test))\n",
    "    acc.append(accuracy_score(y_test,pred_test))\n",
    "    ROC_AUC.append(roc_auc_score(y_test, pred_test_probs[:,1]))       \n",
    "    conf.append(confusion_matrix(y_test,pred_test))\n",
    "    \n",
    "test_set_scores = zip(f1,prec,recall,acc,ROC_AUC,conf)   \n",
    "\n",
    "test_set_result = pd.DataFrame(test_set_scores, \n",
    "                               columns=['F1','precision','recall',\n",
    "                                        'accuracy','ROC_AUC','confusion_matrix'], \n",
    "                               index = ['RF','GBDT','LR','SVM'])\n",
    "test_set_result.round(2)"
   ]
  },
  {
   "cell_type": "code",
   "execution_count": null,
   "id": "e830ec56",
   "metadata": {},
   "outputs": [],
   "source": []
  },
  {
   "cell_type": "code",
   "execution_count": null,
   "id": "fe888f3d",
   "metadata": {},
   "outputs": [],
   "source": []
  }
 ],
 "metadata": {
  "kernelspec": {
   "display_name": "Python 3",
   "language": "python",
   "name": "python3"
  },
  "language_info": {
   "codemirror_mode": {
    "name": "ipython",
    "version": 3
   },
   "file_extension": ".py",
   "mimetype": "text/x-python",
   "name": "python",
   "nbconvert_exporter": "python",
   "pygments_lexer": "ipython3",
   "version": "3.7.7"
  }
 },
 "nbformat": 4,
 "nbformat_minor": 5
}
