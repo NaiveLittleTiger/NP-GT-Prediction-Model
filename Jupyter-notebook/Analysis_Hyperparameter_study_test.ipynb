{
 "cells": [
  {
   "cell_type": "markdown",
   "id": "adcd58da",
   "metadata": {},
   "source": [
    "# 超参数优化的方法可视化的脚本在/scripts/optuna_visualization/visualization-ecfp.ipynb"
   ]
  },
  {
   "cell_type": "code",
   "execution_count": null,
   "id": "fd30bfbf",
   "metadata": {},
   "outputs": [],
   "source": [
    "import pandas as pd\n",
    "import numpy as np\n",
    "import optuna\n",
    "import joblib\n",
    "import optuna\n",
    "from optuna.visualization import plot_contour\n",
    "#from optuna.visualization import plot_edf\n",
    "from optuna.visualization import plot_intermediate_values\n",
    "from optuna.visualization import plot_optimization_history\n",
    "from optuna.visualization import plot_parallel_coordinate\n",
    "from optuna.visualization import plot_param_importances\n",
    "from optuna.visualization import plot_slice\n",
    "import pickle"
   ]
  },
  {
   "cell_type": "code",
   "execution_count": null,
   "id": "91b8bf55",
   "metadata": {},
   "outputs": [],
   "source": [
    "%pwd"
   ]
  },
  {
   "cell_type": "code",
   "execution_count": null,
   "id": "0b04396b",
   "metadata": {},
   "outputs": [],
   "source": [
    "# /home/hcyao/Pycharm/GT1-ML/data/optuna_study/ecfp-update-optuna\n",
    "study=joblib.load('./data/optuna_study/ecfp-update-optuna/optuna2.10.1/study_RF_seed_40.pkl')\n",
    "# xgb2=joblib.load(\"./data/optuna_study/ecfp-batch/study_XGBoost_seed_42.pkl\")\n",
    "# xgb3=joblib.load(\"./data/optuna_study/ecfp-batch/study_XGBoost_seed_41.pkl\")"
   ]
  },
  {
   "cell_type": "code",
   "execution_count": null,
   "id": "50bf137a",
   "metadata": {},
   "outputs": [],
   "source": [
    "plot_optimization_history(study)"
   ]
  },
  {
   "cell_type": "code",
   "execution_count": null,
   "id": "78a1cd10",
   "metadata": {},
   "outputs": [],
   "source": [
    "optuna.visualization.plot_slice(study)"
   ]
  },
  {
   "cell_type": "code",
   "execution_count": null,
   "id": "afd0f23d",
   "metadata": {},
   "outputs": [],
   "source": [
    "plot_parallel_coordinate(study)"
   ]
  },
  {
   "cell_type": "code",
   "execution_count": null,
   "id": "6d1b3248",
   "metadata": {},
   "outputs": [],
   "source": [
    "#plot_parallel_coordinate(study, params=[\"lambda\",\"learning_rate\"])"
   ]
  },
  {
   "cell_type": "code",
   "execution_count": null,
   "id": "d545714a",
   "metadata": {},
   "outputs": [],
   "source": [
    "conda list|grep optuna"
   ]
  }
 ],
 "metadata": {
  "kernelspec": {
   "display_name": "Python 3",
   "language": "python",
   "name": "python3"
  },
  "language_info": {
   "codemirror_mode": {
    "name": "ipython",
    "version": 3
   },
   "file_extension": ".py",
   "mimetype": "text/x-python",
   "name": "python",
   "nbconvert_exporter": "python",
   "pygments_lexer": "ipython3",
   "version": "3.7.7"
  }
 },
 "nbformat": 4,
 "nbformat_minor": 5
}
