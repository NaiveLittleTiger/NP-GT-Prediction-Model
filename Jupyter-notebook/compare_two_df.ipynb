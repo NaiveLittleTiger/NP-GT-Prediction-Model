{
 "cells": [
  {
   "cell_type": "markdown",
   "id": "43ef3b05",
   "metadata": {},
   "source": [
    "# 对比两篇文献的数据"
   ]
  },
  {
   "cell_type": "code",
   "execution_count": 41,
   "id": "155bdbea",
   "metadata": {},
   "outputs": [],
   "source": [
    "import pandas as pd"
   ]
  },
  {
   "cell_type": "code",
   "execution_count": 42,
   "id": "f325c13c",
   "metadata": {},
   "outputs": [],
   "source": [
    "df1=pd.read_csv(\"./data/GT1/GT-2891-1.txt\",sep=' ',header=None)"
   ]
  },
  {
   "cell_type": "code",
   "execution_count": 52,
   "id": "804a629f",
   "metadata": {},
   "outputs": [],
   "source": [
    "df2=pd.read_csv(\"./data/GT1/GT-2891.txt\",sep=' ',header=None)"
   ]
  },
  {
   "cell_type": "code",
   "execution_count": 64,
   "id": "9eeb2889",
   "metadata": {},
   "outputs": [
    {
     "data": {
      "text/html": [
       "<div>\n",
       "<style scoped>\n",
       "    .dataframe tbody tr th:only-of-type {\n",
       "        vertical-align: middle;\n",
       "    }\n",
       "\n",
       "    .dataframe tbody tr th {\n",
       "        vertical-align: top;\n",
       "    }\n",
       "\n",
       "    .dataframe thead th {\n",
       "        text-align: right;\n",
       "    }\n",
       "</style>\n",
       "<table border=\"1\" class=\"dataframe\">\n",
       "  <thead>\n",
       "    <tr style=\"text-align: right;\">\n",
       "      <th></th>\n",
       "      <th>0</th>\n",
       "      <th>1</th>\n",
       "      <th>2</th>\n",
       "    </tr>\n",
       "  </thead>\n",
       "  <tbody>\n",
       "    <tr>\n",
       "      <th>0</th>\n",
       "      <td>O=C1C=C(C2=CC=CC=C2)OC3=C1C(O)=C(C(O)=C3)O</td>\n",
       "      <td>MGKQEDAELVIIPFPFSGHILATIELAKRLISQDNPRIHTITILYW...</td>\n",
       "      <td>0</td>\n",
       "    </tr>\n",
       "    <tr>\n",
       "      <th>1</th>\n",
       "      <td>O=C1C=C(C2=CC=CC=C2)OC3=C1C(O)=C(C(O)=C3)O</td>\n",
       "      <td>MAKQQEAELIFIPFPIPGHILATIELAKRLISHQPSRIHTITILHW...</td>\n",
       "      <td>0</td>\n",
       "    </tr>\n",
       "    <tr>\n",
       "      <th>2</th>\n",
       "      <td>O=C1C=C(C2=CC=CC=C2)OC3=C1C(O)=C(C(O)=C3)O</td>\n",
       "      <td>MKAEAEIIFVTYPSPGHLLVSIEFAKSLIKRDDRIHTITILYWALP...</td>\n",
       "      <td>1</td>\n",
       "    </tr>\n",
       "    <tr>\n",
       "      <th>3</th>\n",
       "      <td>O=C1C=C(C2=CC=CC=C2)OC3=C1C(O)=C(C(O)=C3)O</td>\n",
       "      <td>MNKFALVFVPFPILGHLKSTAEMAKLLVEQETRLSISIIILPLLSG...</td>\n",
       "      <td>1</td>\n",
       "    </tr>\n",
       "    <tr>\n",
       "      <th>4</th>\n",
       "      <td>O=C1C=C(C2=CC=CC=C2)OC3=C1C(O)=C(C(O)=C3)O</td>\n",
       "      <td>MKIELVFIPSPAISHLMATVEMAEQLVDKNDNLSITVIIISFSSKN...</td>\n",
       "      <td>1</td>\n",
       "    </tr>\n",
       "    <tr>\n",
       "      <th>...</th>\n",
       "      <td>...</td>\n",
       "      <td>...</td>\n",
       "      <td>...</td>\n",
       "    </tr>\n",
       "    <tr>\n",
       "      <th>2842</th>\n",
       "      <td>C[C@@H]1CC([C@@]2(O)[C@@](O[C@]3([H])[C@@H](O)...</td>\n",
       "      <td>MEEKPARRSVVLVPFPAQGHISPMMQLAKTLHLKGFSITVVQTKFN...</td>\n",
       "      <td>0</td>\n",
       "    </tr>\n",
       "    <tr>\n",
       "      <th>2843</th>\n",
       "      <td>C[C@@H]1CC([C@@]2(O)[C@@](O[C@]3([H])[C@@H](O)...</td>\n",
       "      <td>MEEKPAGRRVVLVAVPAQGHISPIMQLAKTLHLKGFSITIAQTKFN...</td>\n",
       "      <td>0</td>\n",
       "    </tr>\n",
       "    <tr>\n",
       "      <th>2844</th>\n",
       "      <td>C[C@@H]1CC([C@@]2(O)[C@@](O[C@]3([H])[C@@H](O)...</td>\n",
       "      <td>MASHAVTSGQKPHVVCIPFPAQGHINPMLKVAKLLYARGFHVTFVN...</td>\n",
       "      <td>0</td>\n",
       "    </tr>\n",
       "    <tr>\n",
       "      <th>2845</th>\n",
       "      <td>C[C@@H]1CC([C@@]2(O)[C@@](O[C@]3([H])[C@@H](O)...</td>\n",
       "      <td>MEQHGGSSSQKPHAMCIPYPAQGHINPMLKLAKLLHARGFHVTFVN...</td>\n",
       "      <td>0</td>\n",
       "    </tr>\n",
       "    <tr>\n",
       "      <th>2846</th>\n",
       "      <td>C[C@@H]1CC([C@@]2(O)[C@@](O[C@]3([H])[C@@H](O)...</td>\n",
       "      <td>MTKPSDPTRDSHVAVLAFPFGTHAAPLLTVTRRLASASPSTVFSFF...</td>\n",
       "      <td>0</td>\n",
       "    </tr>\n",
       "  </tbody>\n",
       "</table>\n",
       "<p>2847 rows × 3 columns</p>\n",
       "</div>"
      ],
      "text/plain": [
       "                                                      0  \\\n",
       "0            O=C1C=C(C2=CC=CC=C2)OC3=C1C(O)=C(C(O)=C3)O   \n",
       "1            O=C1C=C(C2=CC=CC=C2)OC3=C1C(O)=C(C(O)=C3)O   \n",
       "2            O=C1C=C(C2=CC=CC=C2)OC3=C1C(O)=C(C(O)=C3)O   \n",
       "3            O=C1C=C(C2=CC=CC=C2)OC3=C1C(O)=C(C(O)=C3)O   \n",
       "4            O=C1C=C(C2=CC=CC=C2)OC3=C1C(O)=C(C(O)=C3)O   \n",
       "...                                                 ...   \n",
       "2842  C[C@@H]1CC([C@@]2(O)[C@@](O[C@]3([H])[C@@H](O)...   \n",
       "2843  C[C@@H]1CC([C@@]2(O)[C@@](O[C@]3([H])[C@@H](O)...   \n",
       "2844  C[C@@H]1CC([C@@]2(O)[C@@](O[C@]3([H])[C@@H](O)...   \n",
       "2845  C[C@@H]1CC([C@@]2(O)[C@@](O[C@]3([H])[C@@H](O)...   \n",
       "2846  C[C@@H]1CC([C@@]2(O)[C@@](O[C@]3([H])[C@@H](O)...   \n",
       "\n",
       "                                                      1  2  \n",
       "0     MGKQEDAELVIIPFPFSGHILATIELAKRLISQDNPRIHTITILYW...  0  \n",
       "1     MAKQQEAELIFIPFPIPGHILATIELAKRLISHQPSRIHTITILHW...  0  \n",
       "2     MKAEAEIIFVTYPSPGHLLVSIEFAKSLIKRDDRIHTITILYWALP...  1  \n",
       "3     MNKFALVFVPFPILGHLKSTAEMAKLLVEQETRLSISIIILPLLSG...  1  \n",
       "4     MKIELVFIPSPAISHLMATVEMAEQLVDKNDNLSITVIIISFSSKN...  1  \n",
       "...                                                 ... ..  \n",
       "2842  MEEKPARRSVVLVPFPAQGHISPMMQLAKTLHLKGFSITVVQTKFN...  0  \n",
       "2843  MEEKPAGRRVVLVAVPAQGHISPIMQLAKTLHLKGFSITIAQTKFN...  0  \n",
       "2844  MASHAVTSGQKPHVVCIPFPAQGHINPMLKVAKLLYARGFHVTFVN...  0  \n",
       "2845  MEQHGGSSSQKPHAMCIPYPAQGHINPMLKLAKLLHARGFHVTFVN...  0  \n",
       "2846  MTKPSDPTRDSHVAVLAFPFGTHAAPLLTVTRRLASASPSTVFSFF...  0  \n",
       "\n",
       "[2847 rows x 3 columns]"
      ]
     },
     "execution_count": 64,
     "metadata": {},
     "output_type": "execute_result"
    }
   ],
   "source": [
    "df1"
   ]
  },
  {
   "cell_type": "code",
   "execution_count": 65,
   "id": "db3f02b0",
   "metadata": {},
   "outputs": [
    {
     "data": {
      "text/plain": [
       "0    2335\n",
       "1     512\n",
       "Name: 2, dtype: int64"
      ]
     },
     "execution_count": 65,
     "metadata": {},
     "output_type": "execute_result"
    }
   ],
   "source": [
    "df1[2].value_counts()"
   ]
  },
  {
   "cell_type": "code",
   "execution_count": 47,
   "id": "85f61199",
   "metadata": {},
   "outputs": [
    {
     "name": "stdout",
     "output_type": "stream",
     "text": [
      "90 54\n"
     ]
    }
   ],
   "source": [
    "print(len(df2[0].value_counts()),len(df2[1].value_counts()))"
   ]
  },
  {
   "cell_type": "code",
   "execution_count": 59,
   "id": "8d25c842",
   "metadata": {},
   "outputs": [
    {
     "data": {
      "text/html": [
       "<div>\n",
       "<style scoped>\n",
       "    .dataframe tbody tr th:only-of-type {\n",
       "        vertical-align: middle;\n",
       "    }\n",
       "\n",
       "    .dataframe tbody tr th {\n",
       "        vertical-align: top;\n",
       "    }\n",
       "\n",
       "    .dataframe thead th {\n",
       "        text-align: right;\n",
       "    }\n",
       "</style>\n",
       "<table border=\"1\" class=\"dataframe\">\n",
       "  <thead>\n",
       "    <tr style=\"text-align: right;\">\n",
       "      <th></th>\n",
       "      <th>0</th>\n",
       "      <th>1</th>\n",
       "      <th>2</th>\n",
       "    </tr>\n",
       "  </thead>\n",
       "  <tbody>\n",
       "    <tr>\n",
       "      <th>0</th>\n",
       "      <td>O=c1cc(-c2ccccc2)oc2cc(O)c(O)c(O)c12</td>\n",
       "      <td>MGKQEDAELVIIPFPFSGHILATIELAKRLISQDNPRIHTITILYW...</td>\n",
       "      <td>0.0</td>\n",
       "    </tr>\n",
       "    <tr>\n",
       "      <th>1</th>\n",
       "      <td>O=c1cc(-c2ccccc2)oc2cc(O)c(O)c(O)c12</td>\n",
       "      <td>MAKQQEAELIFIPFPIPGHILATIELAKRLISHQPSRIHTITILHW...</td>\n",
       "      <td>0.0</td>\n",
       "    </tr>\n",
       "    <tr>\n",
       "      <th>2</th>\n",
       "      <td>O=c1cc(-c2ccccc2)oc2cc(O)c(O)c(O)c12</td>\n",
       "      <td>MKAEAEIIFVTYPSPGHLLVSIEFAKSLIKRDDRIHTITILYWALP...</td>\n",
       "      <td>1.0</td>\n",
       "    </tr>\n",
       "    <tr>\n",
       "      <th>3</th>\n",
       "      <td>O=c1cc(-c2ccccc2)oc2cc(O)c(O)c(O)c12</td>\n",
       "      <td>MNKFALVFVPFPILGHLKSTAEMAKLLVEQETRLSISIIILPLLSG...</td>\n",
       "      <td>1.0</td>\n",
       "    </tr>\n",
       "    <tr>\n",
       "      <th>4</th>\n",
       "      <td>O=c1cc(-c2ccccc2)oc2cc(O)c(O)c(O)c12</td>\n",
       "      <td>MKIELVFIPSPAISHLMATVEMAEQLVDKNDNLSITVIIISFSSKN...</td>\n",
       "      <td>1.0</td>\n",
       "    </tr>\n",
       "    <tr>\n",
       "      <th>...</th>\n",
       "      <td>...</td>\n",
       "      <td>...</td>\n",
       "      <td>...</td>\n",
       "    </tr>\n",
       "    <tr>\n",
       "      <th>2886</th>\n",
       "      <td>CN[C@H]1[C@@H](O)[C@@H](NC)[C@H](O)[C@H]2O[C@@...</td>\n",
       "      <td>MASHAVTSGQKPHVVCIPFPAQGHINPMLKVAKLLYARGFHVTFVN...</td>\n",
       "      <td>1.0</td>\n",
       "    </tr>\n",
       "    <tr>\n",
       "      <th>2887</th>\n",
       "      <td>CN[C@H]1[C@@H](O)[C@@H](NC)[C@H](O)[C@H]2O[C@@...</td>\n",
       "      <td>MEQHGGSSSQKPHAMCIPYPAQGHINPMLKLAKLLHARGFHVTFVN...</td>\n",
       "      <td>1.0</td>\n",
       "    </tr>\n",
       "    <tr>\n",
       "      <th>2888</th>\n",
       "      <td>CN[C@H]1[C@@H](O)[C@@H](NC)[C@H](O)[C@H]2O[C@@...</td>\n",
       "      <td>MTKPSDPTRDSHVAVLAFPFGTHAAPLLTVTRRLASASPSTVFSFF...</td>\n",
       "      <td>1.0</td>\n",
       "    </tr>\n",
       "    <tr>\n",
       "      <th>2889</th>\n",
       "      <td>CN[C@H]1[C@@H](O)[C@@H](NC)[C@H](O)[C@H]2O[C@@...</td>\n",
       "      <td>MTKFSEPIRDSHVAVLAFFPVGAHAGPLLAVTRRLAAASPSTIFSF...</td>\n",
       "      <td>0.0</td>\n",
       "    </tr>\n",
       "    <tr>\n",
       "      <th>2890</th>\n",
       "      <td>CN[C@H]1[C@@H](O)[C@@H](NC)[C@H](O)[C@H]2O[C@@...</td>\n",
       "      <td>MSQTTTNPHVAVLAFPFSTHAAPLLAVVRRLAAAAPHAVFSFFSTS...</td>\n",
       "      <td>1.0</td>\n",
       "    </tr>\n",
       "  </tbody>\n",
       "</table>\n",
       "<p>2891 rows × 3 columns</p>\n",
       "</div>"
      ],
      "text/plain": [
       "                                                      0  \\\n",
       "0                  O=c1cc(-c2ccccc2)oc2cc(O)c(O)c(O)c12   \n",
       "1                  O=c1cc(-c2ccccc2)oc2cc(O)c(O)c(O)c12   \n",
       "2                  O=c1cc(-c2ccccc2)oc2cc(O)c(O)c(O)c12   \n",
       "3                  O=c1cc(-c2ccccc2)oc2cc(O)c(O)c(O)c12   \n",
       "4                  O=c1cc(-c2ccccc2)oc2cc(O)c(O)c(O)c12   \n",
       "...                                                 ...   \n",
       "2886  CN[C@H]1[C@@H](O)[C@@H](NC)[C@H](O)[C@H]2O[C@@...   \n",
       "2887  CN[C@H]1[C@@H](O)[C@@H](NC)[C@H](O)[C@H]2O[C@@...   \n",
       "2888  CN[C@H]1[C@@H](O)[C@@H](NC)[C@H](O)[C@H]2O[C@@...   \n",
       "2889  CN[C@H]1[C@@H](O)[C@@H](NC)[C@H](O)[C@H]2O[C@@...   \n",
       "2890  CN[C@H]1[C@@H](O)[C@@H](NC)[C@H](O)[C@H]2O[C@@...   \n",
       "\n",
       "                                                      1    2  \n",
       "0     MGKQEDAELVIIPFPFSGHILATIELAKRLISQDNPRIHTITILYW...  0.0  \n",
       "1     MAKQQEAELIFIPFPIPGHILATIELAKRLISHQPSRIHTITILHW...  0.0  \n",
       "2     MKAEAEIIFVTYPSPGHLLVSIEFAKSLIKRDDRIHTITILYWALP...  1.0  \n",
       "3     MNKFALVFVPFPILGHLKSTAEMAKLLVEQETRLSISIIILPLLSG...  1.0  \n",
       "4     MKIELVFIPSPAISHLMATVEMAEQLVDKNDNLSITVIIISFSSKN...  1.0  \n",
       "...                                                 ...  ...  \n",
       "2886  MASHAVTSGQKPHVVCIPFPAQGHINPMLKVAKLLYARGFHVTFVN...  1.0  \n",
       "2887  MEQHGGSSSQKPHAMCIPYPAQGHINPMLKLAKLLHARGFHVTFVN...  1.0  \n",
       "2888  MTKPSDPTRDSHVAVLAFPFGTHAAPLLTVTRRLASASPSTVFSFF...  1.0  \n",
       "2889  MTKFSEPIRDSHVAVLAFFPVGAHAGPLLAVTRRLAAASPSTIFSF...  0.0  \n",
       "2890  MSQTTTNPHVAVLAFPFSTHAAPLLAVVRRLAAAAPHAVFSFFSTS...  1.0  \n",
       "\n",
       "[2891 rows x 3 columns]"
      ]
     },
     "execution_count": 59,
     "metadata": {},
     "output_type": "execute_result"
    }
   ],
   "source": [
    "df2"
   ]
  },
  {
   "cell_type": "code",
   "execution_count": 60,
   "id": "bc6dcd07",
   "metadata": {},
   "outputs": [
    {
     "data": {
      "text/plain": [
       "RangeIndex(start=0, stop=2891, step=1)"
      ]
     },
     "execution_count": 60,
     "metadata": {},
     "output_type": "execute_result"
    }
   ],
   "source": [
    "df2.index"
   ]
  },
  {
   "cell_type": "code",
   "execution_count": 63,
   "id": "7f84dca1",
   "metadata": {},
   "outputs": [
    {
     "data": {
      "text/plain": [
       "\"['O', '=', 'c', '1', 'c', 'c', '(', '-', 'c', '2', 'c', 'c', 'c', 'c', 'c', '2', ')', 'o', 'c', '2', 'c', 'c', '(', 'O', ')', 'c', '(', 'O', ')', 'c', '(', 'O', ')', 'c', '1', '2']\""
      ]
     },
     "execution_count": 63,
     "metadata": {},
     "output_type": "execute_result"
    }
   ],
   "source": [
    "str(list(df2[0][1]))"
   ]
  },
  {
   "cell_type": "code",
   "execution_count": null,
   "id": "f1e4749f",
   "metadata": {},
   "outputs": [],
   "source": [
    "[df2[0][col] for col in df2.index"
   ]
  },
  {
   "cell_type": "code",
   "execution_count": 32,
   "id": "95eb2577",
   "metadata": {},
   "outputs": [
    {
     "data": {
      "text/html": [
       "<div>\n",
       "<style scoped>\n",
       "    .dataframe tbody tr th:only-of-type {\n",
       "        vertical-align: middle;\n",
       "    }\n",
       "\n",
       "    .dataframe tbody tr th {\n",
       "        vertical-align: top;\n",
       "    }\n",
       "\n",
       "    .dataframe thead th {\n",
       "        text-align: right;\n",
       "    }\n",
       "</style>\n",
       "<table border=\"1\" class=\"dataframe\">\n",
       "  <thead>\n",
       "    <tr style=\"text-align: right;\">\n",
       "      <th></th>\n",
       "      <th>0</th>\n",
       "      <th>1</th>\n",
       "      <th>2</th>\n",
       "    </tr>\n",
       "  </thead>\n",
       "  <tbody>\n",
       "  </tbody>\n",
       "</table>\n",
       "</div>"
      ],
      "text/plain": [
       "Empty DataFrame\n",
       "Columns: [0, 1, 2]\n",
       "Index: []"
      ]
     },
     "execution_count": 32,
     "metadata": {},
     "output_type": "execute_result"
    }
   ],
   "source": [
    "intersected_df = pd.merge(df1, df2, how='inner',on=[0,1,2])\n",
    "intersected_df"
   ]
  }
 ],
 "metadata": {
  "kernelspec": {
   "display_name": "Python 3",
   "language": "python",
   "name": "python3"
  },
  "language_info": {
   "codemirror_mode": {
    "name": "ipython",
    "version": 3
   },
   "file_extension": ".py",
   "mimetype": "text/x-python",
   "name": "python",
   "nbconvert_exporter": "python",
   "pygments_lexer": "ipython3",
   "version": "3.7.7"
  }
 },
 "nbformat": 4,
 "nbformat_minor": 5
}
